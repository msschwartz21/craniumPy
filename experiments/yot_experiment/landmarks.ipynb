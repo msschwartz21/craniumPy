{
 "cells": [
  {
   "cell_type": "markdown",
   "metadata": {},
   "source": [
    "# Introduction: Landmarks"
   ]
  },
  {
   "cell_type": "code",
   "execution_count": 9,
   "metadata": {},
   "outputs": [],
   "source": [
    "import deltascope as ds\n",
    "import deltascope.alignment as ut\n",
    "\n",
    "import numpy as np\n",
    "import pandas as pd\n",
    "import matplotlib.pyplot as plt\n",
    "\n",
    "from sklearn.preprocessing import normalize, Normalizer\n",
    "from scipy.optimize import minimize\n",
    "from scipy.stats import normaltest\n",
    "\n",
    "import os\n",
    "import tqdm\n",
    "import json\n",
    "import time\n",
    "import datetime"
   ]
  },
  {
   "cell_type": "markdown",
   "metadata": {},
   "source": [
    "# Import raw data\n",
    "The user needs to specify the directories containing the data of interest. Each sample type should have a key which corresponds to the directory path. Additionally, each object should have a list that includes the channels of interest."
   ]
  },
  {
   "cell_type": "code",
   "execution_count": 4,
   "metadata": {},
   "outputs": [],
   "source": [
    "# --------------------------------\n",
    "# -------- User input ------------\n",
    "# --------------------------------\n",
    "\n",
    "data = {\n",
    "    # Specify sample type key\n",
    "    'wt': {\n",
    "        # Specify path to data directory\n",
    "        'path': './data/Output_wt03-09-21-29/',\n",
    "        # Specify which channels are in the directory and are of interest\n",
    "        'channels': ['AT','ZRF']\n",
    "    },\n",
    "    'you-too': {\n",
    "        'path': './data/Output_yot03-09-23-21/',\n",
    "        'channels': ['AT','ZRF']\n",
    "    }\n",
    "}"
   ]
  },
  {
   "cell_type": "markdown",
   "metadata": {},
   "source": [
    "We'll generate a list of pairs of stypes and channels for ease of use."
   ]
  },
  {
   "cell_type": "code",
   "execution_count": 5,
   "metadata": {},
   "outputs": [],
   "source": [
    "data_pairs = []\n",
    "for s in data.keys():\n",
    "    for c in data[s]['channels']:\n",
    "        data_pairs.append((s,c))"
   ]
  },
  {
   "cell_type": "markdown",
   "metadata": {},
   "source": [
    "We can now read in all datafiles specified by the `data` dictionary above."
   ]
  },
  {
   "cell_type": "code",
   "execution_count": 6,
   "metadata": {},
   "outputs": [
    {
     "name": "stderr",
     "output_type": "stream",
     "text": [
      "100%|██████████████████████████████████████████████████████████████████████████████████| 64/64 [00:09<00:00,  6.59it/s]\n",
      "100%|██████████████████████████████████████████████████████████████████████████████████| 64/64 [00:08<00:00,  2.98it/s]\n",
      "100%|██████████████████████████████████████████████████████████████████████████████████| 69/69 [00:03<00:00, 17.48it/s]\n",
      "100%|██████████████████████████████████████████████████████████████████████████████████| 69/69 [00:05<00:00,  7.70it/s]\n"
     ]
    }
   ],
   "source": [
    "D = {}\n",
    "for s in data.keys():\n",
    "    D[s] = {}\n",
    "    for c in data[s]['channels']:\n",
    "        D[s][c] = ds.read_psi_to_dict(data[s]['path'],c)"
   ]
  },
  {
   "cell_type": "markdown",
   "metadata": {},
   "source": [
    "Calculate optimum landmark parameters\n",
    "Choose a single sample type and channel which will be used as the control to calculate the appropriate size of landmark bins. Typically we use wildtype samples and the AT channel. We will run a parameter sweep of bin sizes using ds.anumSelect."
   ]
  },
  {
   "cell_type": "code",
   "execution_count": 7,
   "metadata": {},
   "outputs": [],
   "source": [
    "# --------------------------------\n",
    "# -------- User input ------------\n",
    "# --------------------------------\n",
    "\n",
    "# Specify stype to use as control\n",
    "s_ctrl = 'wt'\n",
    "# Specify channel to use as control\n",
    "c_ctrl = 'AT'\n",
    "\n",
    "# Specify size of theta bins\n",
    "theta_step = np.pi/4\n",
    "# Specify the step size when sweeping various alpha bin sizes\n",
    "astep = 3\n",
    "# Specify minimum a value \n",
    "amn = 2\n",
    "# Specify maximum a value\n",
    "amx = 50"
   ]
  },
  {
   "cell_type": "code",
   "execution_count": 8,
   "metadata": {},
   "outputs": [
    {
     "name": "stdout",
     "output_type": "stream",
     "text": [
      "initiating 50 calculations\n",
      "2 calculation complete\n",
      "5 calculation complete\n"
     ]
    },
    {
     "name": "stderr",
     "output_type": "stream",
     "text": [
      "c:\\users\\zfishlab\\code\\deltascope\\deltascope\\__init__.py:1179: RuntimeWarning: Degrees of freedom <= 0 for slice.\n",
      "  Lvar.append(np.nanvar(lmarr[i-1:i+2,t],axis=0))\n"
     ]
    },
    {
     "name": "stdout",
     "output_type": "stream",
     "text": [
      "8 calculation complete\n",
      "11 calculation complete\n",
      "14 calculation complete\n",
      "17 calculation complete\n"
     ]
    },
    {
     "name": "stderr",
     "output_type": "stream",
     "text": [
      "c:\\users\\zfishlab\\code\\deltascope\\deltascope\\__init__.py:1173: RuntimeWarning: Degrees of freedom <= 0 for slice.\n",
      "  svar = np.nanvar(lmarr,axis=2)\n"
     ]
    },
    {
     "name": "stdout",
     "output_type": "stream",
     "text": [
      "20 calculation complete\n",
      "23 calculation complete\n",
      "26 calculation complete\n",
      "29 calculation complete\n",
      "32 calculation complete\n",
      "35 calculation complete\n",
      "38 calculation complete\n",
      "41 calculation complete\n",
      "44 calculation complete\n",
      "47 calculation complete\n",
      "Parameter sweep complete\n"
     ]
    }
   ],
   "source": [
    "optr = ds.anumSelect(D[s_ctrl][c_ctrl])\n",
    "optr.param_sweep(theta_step, amn=amn, amx=amx, astep=astep,\n",
    "                 rnull=np.nan, DT='r')"
   ]
  },
  {
   "cell_type": "markdown",
   "metadata": {},
   "source": [
    "Plot result of the parameter sweep to get a sense of the results."
   ]
  },
  {
   "cell_type": "code",
   "execution_count": 11,
   "metadata": {},
   "outputs": [],
   "source": [
    "# --------------------------------\n",
    "# -------- User input ------------\n",
    "# --------------------------------\n",
    "\n",
    "# Select degrees of freedom for curve fitting\n",
    "dof = 5"
   ]
  },
  {
   "cell_type": "code",
   "execution_count": 14,
   "metadata": {},
   "outputs": [
    {
     "data": {
      "image/png": "[encoded data removed]",
      "text/plain": [
       "<Figure size 432x288 with 1 Axes>"
      ]
     },
     "metadata": {
      "needs_background": "light"
     },
     "output_type": "display_data"
    }
   ],
   "source": [
    "x = np.arange(amn,amx,astep)\n",
    "fig,ax = plt.subplots()\n",
    "\n",
    "# Fit a curve to bin variance values\n",
    "optrMbvarray = np.array(optr.Mbv).reshape(1, len(optr.Mbv))\n",
    "pbv = np.polyfit(x, normalize(optrMbvarray)[0], dof)\n",
    "fbv = np.poly1d(pbv)\n",
    "ax.plot(x, fbv(x), c='b', label='Bin Variance')\n",
    "\n",
    "# Fit curve to sample variance values\n",
    "optrMsvarray = np.array(optr.Msv).reshape(1, len(optr.Msv))\n",
    "psv = np.polyfit(x, normalize(optrMsvarray)[0], dof)\n",
    "fsv = np.poly1d(psv)\n",
    "ax.plot(x, fsv(x), c='g', label='Sample Variance')\n",
    "\n",
    "# Plot sum of sample and bin variances\n",
    "ax.plot(x, fsv(x)+fbv(x), c='c', label='Total Variance')\n",
    "\n",
    "ax.legend()\n",
    "tstamp = datetime.datetime.now().strftime('%Y-%m-%d')\n",
    "location = \"C:\\\\Users\\\\zfishlab\\\\Code\\\\deltascope\\\\figures\\\\Raw_Figures_for_DeltaScope_revision\\\\\"\n",
    "fig.savefig(location+tstamp+'_yotlandmarkoptimization-{}-{}.png'.format(c_ctrl,s_ctrl))"
   ]
  },
  {
   "cell_type": "code",
   "execution_count": null,
   "metadata": {},
   "outputs": [],
   "source": []
  },
  {
   "cell_type": "markdown",
   "metadata": {},
   "source": [
    "Now we can calculate the optimal bin size with the help of the user specifying a best guess for the optimal value."
   ]
  },
  {
   "cell_type": "code",
   "execution_count": 204,
   "metadata": {},
   "outputs": [],
   "source": [
    "\n",
    "# --------------------------------\n",
    "# -------- User input ------------\n",
    "# --------------------------------\n",
    "\n",
    "# Guess the approximate optimal value\n",
    "guess = 25"
   ]
  },
  {
   "cell_type": "code",
   "execution_count": 205,
   "metadata": {},
   "outputs": [
    {
     "name": "stdout",
     "output_type": "stream",
     "text": [
      "23.708519866831388\n"
     ]
    }
   ],
   "source": [
    "opt = minimize(fbv+fsv, guess)\n",
    "ax.axvline(opt.x, c='r', label='Optimum: '+str(np.round(opt.x[0], 2)))\n",
    "print(opt.x[0])"
   ]
  },
  {
   "cell_type": "code",
   "execution_count": null,
   "metadata": {},
   "outputs": [],
   "source": []
  },
  {
   "cell_type": "markdown",
   "metadata": {},
   "source": [
    "# Calculate landmark bins\n",
    "Based on the analysis above, we can select the optimal value of alpha bins."
   ]
  },
  {
   "cell_type": "code",
   "execution_count": 206,
   "metadata": {},
   "outputs": [],
   "source": [
    "# --------------------------------\n",
    "# -------- User input ------------\n",
    "# --------------------------------\n",
    "\n",
    "# Pick an integer value for bin number based on results above\n",
    "anum = 25\n",
    "\n",
    "# Specify the percentiles which will be used to calculate landmarks\n",
    "percbins = [50]"
   ]
  },
  {
   "cell_type": "markdown",
   "metadata": {},
   "source": [
    "Calculate landmark bins based on user input parameters and the previously specified control sample."
   ]
  },
  {
   "cell_type": "code",
   "execution_count": 207,
   "metadata": {},
   "outputs": [],
   "source": [
    "theta_step = np.pi/4"
   ]
  },
  {
   "cell_type": "code",
   "execution_count": 208,
   "metadata": {},
   "outputs": [
    {
     "name": "stdout",
     "output_type": "stream",
     "text": [
      "Alpha bins\n",
      "[-81.64435845 -74.84066191 -68.03696537 -61.23326883 -54.4295723\n",
      " -47.62587576 -40.82217922 -34.01848269 -27.21478615 -20.41108961\n",
      " -13.60739307  -6.80369654   0.           6.80369654  13.60739307\n",
      "  20.41108961  27.21478615  34.01848269  40.82217922  47.62587576\n",
      "  54.4295723   61.23326883  68.03696537  74.84066191  81.64435845]\n",
      "Theta bins\n",
      "[-3.14159265 -2.35619449 -1.57079633 -0.78539816  0.          0.78539816\n",
      "  1.57079633  2.35619449  3.14159265]\n"
     ]
    }
   ],
   "source": [
    "lm = ds.landmarks(percbins=percbins, rnull=np.nan)\n",
    "lm.calc_bins(D['wt']['AT'], anum, theta_step)\n",
    "\n",
    "print('Alpha bins')\n",
    "print(lm.acbins)\n",
    "print('Theta bins')\n",
    "print(lm.tbins)"
   ]
  },
  {
   "cell_type": "markdown",
   "metadata": {},
   "source": [
    "# Calculate landmarks"
   ]
  },
  {
   "cell_type": "code",
   "execution_count": 209,
   "metadata": {},
   "outputs": [
    {
     "data": {
      "text/html": [
       "<div>\n",
       "<style scoped>\n",
       "    .dataframe tbody tr th:only-of-type {\n",
       "        vertical-align: middle;\n",
       "    }\n",
       "\n",
       "    .dataframe tbody tr th {\n",
       "        vertical-align: top;\n",
       "    }\n",
       "\n",
       "    .dataframe thead th {\n",
       "        text-align: right;\n",
       "    }\n",
       "</style>\n",
       "<table border=\"1\" class=\"dataframe\">\n",
       "  <thead>\n",
       "    <tr style=\"text-align: right;\">\n",
       "      <th></th>\n",
       "      <th>-13.61_-6.8_-0.79_0.0_50_pts</th>\n",
       "      <th>-13.61_-6.8_-0.79_0.0_50_r</th>\n",
       "      <th>-13.61_-6.8_-1.57_-0.79_50_pts</th>\n",
       "      <th>-13.61_-6.8_-1.57_-0.79_50_r</th>\n",
       "      <th>-13.61_-6.8_-2.36_-1.57_50_pts</th>\n",
       "      <th>-13.61_-6.8_-2.36_-1.57_50_r</th>\n",
       "      <th>-13.61_-6.8_-3.14_-2.36_50_pts</th>\n",
       "      <th>-13.61_-6.8_-3.14_-2.36_50_r</th>\n",
       "      <th>-13.61_-6.8_0.0_0.79_50_pts</th>\n",
       "      <th>-13.61_-6.8_0.0_0.79_50_r</th>\n",
       "      <th>...</th>\n",
       "      <th>74.84_81.64_-3.14_-2.36_50_r</th>\n",
       "      <th>74.84_81.64_0.0_0.79_50_pts</th>\n",
       "      <th>74.84_81.64_0.0_0.79_50_r</th>\n",
       "      <th>74.84_81.64_0.79_1.57_50_pts</th>\n",
       "      <th>74.84_81.64_0.79_1.57_50_r</th>\n",
       "      <th>74.84_81.64_1.57_2.36_50_pts</th>\n",
       "      <th>74.84_81.64_1.57_2.36_50_r</th>\n",
       "      <th>74.84_81.64_2.36_3.14_50_pts</th>\n",
       "      <th>74.84_81.64_2.36_3.14_50_r</th>\n",
       "      <th>stype</th>\n",
       "    </tr>\n",
       "  </thead>\n",
       "  <tbody>\n",
       "    <tr>\n",
       "      <th>101</th>\n",
       "      <td>0.0</td>\n",
       "      <td>NaN</td>\n",
       "      <td>0.0</td>\n",
       "      <td>NaN</td>\n",
       "      <td>0.0</td>\n",
       "      <td>NaN</td>\n",
       "      <td>0.0</td>\n",
       "      <td>NaN</td>\n",
       "      <td>0.0</td>\n",
       "      <td>NaN</td>\n",
       "      <td>...</td>\n",
       "      <td>NaN</td>\n",
       "      <td>0.0</td>\n",
       "      <td>NaN</td>\n",
       "      <td>0.0</td>\n",
       "      <td>NaN</td>\n",
       "      <td>0.0</td>\n",
       "      <td>NaN</td>\n",
       "      <td>0.0</td>\n",
       "      <td>NaN</td>\n",
       "      <td>wt-AT</td>\n",
       "    </tr>\n",
       "    <tr>\n",
       "      <th>102</th>\n",
       "      <td>12.0</td>\n",
       "      <td>0.591255</td>\n",
       "      <td>4.0</td>\n",
       "      <td>0.356970</td>\n",
       "      <td>43.0</td>\n",
       "      <td>1.563061</td>\n",
       "      <td>202.0</td>\n",
       "      <td>1.139003</td>\n",
       "      <td>4.0</td>\n",
       "      <td>0.682545</td>\n",
       "      <td>...</td>\n",
       "      <td>NaN</td>\n",
       "      <td>0.0</td>\n",
       "      <td>NaN</td>\n",
       "      <td>0.0</td>\n",
       "      <td>NaN</td>\n",
       "      <td>0.0</td>\n",
       "      <td>NaN</td>\n",
       "      <td>0.0</td>\n",
       "      <td>NaN</td>\n",
       "      <td>wt-AT</td>\n",
       "    </tr>\n",
       "    <tr>\n",
       "      <th>104</th>\n",
       "      <td>953.0</td>\n",
       "      <td>2.394736</td>\n",
       "      <td>1491.0</td>\n",
       "      <td>3.236693</td>\n",
       "      <td>367.0</td>\n",
       "      <td>3.908196</td>\n",
       "      <td>0.0</td>\n",
       "      <td>NaN</td>\n",
       "      <td>318.0</td>\n",
       "      <td>1.884858</td>\n",
       "      <td>...</td>\n",
       "      <td>NaN</td>\n",
       "      <td>0.0</td>\n",
       "      <td>NaN</td>\n",
       "      <td>0.0</td>\n",
       "      <td>NaN</td>\n",
       "      <td>0.0</td>\n",
       "      <td>NaN</td>\n",
       "      <td>0.0</td>\n",
       "      <td>NaN</td>\n",
       "      <td>wt-AT</td>\n",
       "    </tr>\n",
       "    <tr>\n",
       "      <th>105</th>\n",
       "      <td>153.0</td>\n",
       "      <td>3.092621</td>\n",
       "      <td>1224.0</td>\n",
       "      <td>3.664182</td>\n",
       "      <td>143.0</td>\n",
       "      <td>3.798781</td>\n",
       "      <td>0.0</td>\n",
       "      <td>NaN</td>\n",
       "      <td>0.0</td>\n",
       "      <td>NaN</td>\n",
       "      <td>...</td>\n",
       "      <td>NaN</td>\n",
       "      <td>0.0</td>\n",
       "      <td>NaN</td>\n",
       "      <td>0.0</td>\n",
       "      <td>NaN</td>\n",
       "      <td>0.0</td>\n",
       "      <td>NaN</td>\n",
       "      <td>0.0</td>\n",
       "      <td>NaN</td>\n",
       "      <td>wt-AT</td>\n",
       "    </tr>\n",
       "    <tr>\n",
       "      <th>106</th>\n",
       "      <td>4.0</td>\n",
       "      <td>14.989111</td>\n",
       "      <td>33.0</td>\n",
       "      <td>3.444925</td>\n",
       "      <td>624.0</td>\n",
       "      <td>2.077761</td>\n",
       "      <td>389.0</td>\n",
       "      <td>1.135013</td>\n",
       "      <td>0.0</td>\n",
       "      <td>NaN</td>\n",
       "      <td>...</td>\n",
       "      <td>NaN</td>\n",
       "      <td>0.0</td>\n",
       "      <td>NaN</td>\n",
       "      <td>0.0</td>\n",
       "      <td>NaN</td>\n",
       "      <td>0.0</td>\n",
       "      <td>NaN</td>\n",
       "      <td>0.0</td>\n",
       "      <td>NaN</td>\n",
       "      <td>wt-AT</td>\n",
       "    </tr>\n",
       "  </tbody>\n",
       "</table>\n",
       "<p>5 rows × 385 columns</p>\n",
       "</div>"
      ],
      "text/plain": [
       "     -13.61_-6.8_-0.79_0.0_50_pts  -13.61_-6.8_-0.79_0.0_50_r  \\\n",
       "101                           0.0                         NaN   \n",
       "102                          12.0                    0.591255   \n",
       "104                         953.0                    2.394736   \n",
       "105                         153.0                    3.092621   \n",
       "106                           4.0                   14.989111   \n",
       "\n",
       "     -13.61_-6.8_-1.57_-0.79_50_pts  -13.61_-6.8_-1.57_-0.79_50_r  \\\n",
       "101                             0.0                           NaN   \n",
       "102                             4.0                      0.356970   \n",
       "104                          1491.0                      3.236693   \n",
       "105                          1224.0                      3.664182   \n",
       "106                            33.0                      3.444925   \n",
       "\n",
       "     -13.61_-6.8_-2.36_-1.57_50_pts  -13.61_-6.8_-2.36_-1.57_50_r  \\\n",
       "101                             0.0                           NaN   \n",
       "102                            43.0                      1.563061   \n",
       "104                           367.0                      3.908196   \n",
       "105                           143.0                      3.798781   \n",
       "106                           624.0                      2.077761   \n",
       "\n",
       "     -13.61_-6.8_-3.14_-2.36_50_pts  -13.61_-6.8_-3.14_-2.36_50_r  \\\n",
       "101                             0.0                           NaN   \n",
       "102                           202.0                      1.139003   \n",
       "104                             0.0                           NaN   \n",
       "105                             0.0                           NaN   \n",
       "106                           389.0                      1.135013   \n",
       "\n",
       "     -13.61_-6.8_0.0_0.79_50_pts  -13.61_-6.8_0.0_0.79_50_r  ...    \\\n",
       "101                          0.0                        NaN  ...     \n",
       "102                          4.0                   0.682545  ...     \n",
       "104                        318.0                   1.884858  ...     \n",
       "105                          0.0                        NaN  ...     \n",
       "106                          0.0                        NaN  ...     \n",
       "\n",
       "     74.84_81.64_-3.14_-2.36_50_r  74.84_81.64_0.0_0.79_50_pts  \\\n",
       "101                           NaN                          0.0   \n",
       "102                           NaN                          0.0   \n",
       "104                           NaN                          0.0   \n",
       "105                           NaN                          0.0   \n",
       "106                           NaN                          0.0   \n",
       "\n",
       "     74.84_81.64_0.0_0.79_50_r  74.84_81.64_0.79_1.57_50_pts  \\\n",
       "101                        NaN                           0.0   \n",
       "102                        NaN                           0.0   \n",
       "104                        NaN                           0.0   \n",
       "105                        NaN                           0.0   \n",
       "106                        NaN                           0.0   \n",
       "\n",
       "     74.84_81.64_0.79_1.57_50_r  74.84_81.64_1.57_2.36_50_pts  \\\n",
       "101                         NaN                           0.0   \n",
       "102                         NaN                           0.0   \n",
       "104                         NaN                           0.0   \n",
       "105                         NaN                           0.0   \n",
       "106                         NaN                           0.0   \n",
       "\n",
       "     74.84_81.64_1.57_2.36_50_r  74.84_81.64_2.36_3.14_50_pts  \\\n",
       "101                         NaN                           0.0   \n",
       "102                         NaN                           0.0   \n",
       "104                         NaN                           0.0   \n",
       "105                         NaN                           0.0   \n",
       "106                         NaN                           0.0   \n",
       "\n",
       "     74.84_81.64_2.36_3.14_50_r  stype  \n",
       "101                         NaN  wt-AT  \n",
       "102                         NaN  wt-AT  \n",
       "104                         NaN  wt-AT  \n",
       "105                         NaN  wt-AT  \n",
       "106                         NaN  wt-AT  \n",
       "\n",
       "[5 rows x 385 columns]"
      ]
     },
     "execution_count": 209,
     "metadata": {},
     "output_type": "execute_result"
    }
   ],
   "source": [
    "lmdf.head()"
   ]
  },
  {
   "cell_type": "code",
   "execution_count": 210,
   "metadata": {
    "scrolled": true
   },
   "outputs": [
    {
     "name": "stderr",
     "output_type": "stream",
     "text": [
      "\r",
      "  0%|          | 0/4 [00:00<?, ?it/s]"
     ]
    },
    {
     "name": "stdout",
     "output_type": "stream",
     "text": [
      "wt AT\n"
     ]
    },
    {
     "name": "stderr",
     "output_type": "stream",
     "text": [
      "\n",
      "  0%|          | 0/31 [00:00<?, ?it/s]\n",
      "  3%|▎         | 1/31 [00:00<00:20,  1.45it/s]\n",
      "  6%|▋         | 2/31 [00:01<00:20,  1.44it/s]\n",
      " 10%|▉         | 3/31 [00:02<00:19,  1.44it/s]\n",
      " 13%|█▎        | 4/31 [00:02<00:18,  1.48it/s]\n",
      " 16%|█▌        | 5/31 [00:03<00:18,  1.43it/s]\n",
      " 19%|█▉        | 6/31 [00:04<00:17,  1.45it/s]\n",
      " 23%|██▎       | 7/31 [00:04<00:17,  1.35it/s]\n",
      " 26%|██▌       | 8/31 [00:05<00:16,  1.36it/s]\n",
      " 29%|██▉       | 9/31 [00:06<00:15,  1.40it/s]\n",
      " 32%|███▏      | 10/31 [00:07<00:14,  1.46it/s]\n",
      " 35%|███▌      | 11/31 [00:07<00:14,  1.41it/s]\n",
      " 39%|███▊      | 12/31 [00:08<00:13,  1.44it/s]\n",
      " 42%|████▏     | 13/31 [00:09<00:13,  1.35it/s]\n",
      " 45%|████▌     | 14/31 [00:09<00:12,  1.40it/s]\n",
      " 48%|████▊     | 15/31 [00:10<00:11,  1.41it/s]\n",
      " 52%|█████▏    | 16/31 [00:11<00:11,  1.31it/s]\n",
      " 55%|█████▍    | 17/31 [00:12<00:10,  1.30it/s]\n",
      " 58%|█████▊    | 18/31 [00:13<00:10,  1.30it/s]\n",
      " 61%|██████▏   | 19/31 [00:13<00:09,  1.28it/s]\n",
      " 65%|██████▍   | 20/31 [00:14<00:08,  1.29it/s]\n",
      " 68%|██████▊   | 21/31 [00:15<00:07,  1.30it/s]\n",
      " 71%|███████   | 22/31 [00:16<00:07,  1.20it/s]\n",
      " 74%|███████▍  | 23/31 [00:17<00:06,  1.27it/s]\n",
      " 77%|███████▋  | 24/31 [00:17<00:05,  1.37it/s]\n",
      " 81%|████████  | 25/31 [00:18<00:04,  1.47it/s]\n",
      " 84%|████████▍ | 26/31 [00:18<00:03,  1.46it/s]\n",
      " 87%|████████▋ | 27/31 [00:19<00:02,  1.41it/s]\n",
      " 90%|█████████ | 28/31 [00:20<00:02,  1.43it/s]\n",
      " 94%|█████████▎| 29/31 [00:21<00:01,  1.39it/s]\n",
      " 97%|█████████▋| 30/31 [00:21<00:00,  1.41it/s]\n",
      "100%|██████████| 31/31 [00:22<00:00,  1.46it/s]\n",
      " 25%|██▌       | 1/4 [00:22<01:07, 22.45s/it]"
     ]
    },
    {
     "name": "stdout",
     "output_type": "stream",
     "text": [
      "wt ZRF\n"
     ]
    },
    {
     "name": "stderr",
     "output_type": "stream",
     "text": [
      "\n",
      "  0%|          | 0/31 [00:00<?, ?it/s]\n",
      "  3%|▎         | 1/31 [00:00<00:23,  1.28it/s]\n",
      "  6%|▋         | 2/31 [00:01<00:22,  1.29it/s]\n",
      " 10%|▉         | 3/31 [00:02<00:20,  1.35it/s]\n",
      " 13%|█▎        | 4/31 [00:02<00:19,  1.40it/s]\n",
      " 16%|█▌        | 5/31 [00:03<00:17,  1.45it/s]\n",
      " 19%|█▉        | 6/31 [00:04<00:16,  1.49it/s]\n",
      " 23%|██▎       | 7/31 [00:04<00:16,  1.49it/s]\n",
      " 26%|██▌       | 8/31 [00:05<00:15,  1.53it/s]\n",
      " 29%|██▉       | 9/31 [00:06<00:14,  1.48it/s]\n",
      " 32%|███▏      | 10/31 [00:06<00:13,  1.52it/s]\n",
      " 35%|███▌      | 11/31 [00:07<00:12,  1.59it/s]\n",
      " 39%|███▊      | 12/31 [00:07<00:12,  1.57it/s]\n",
      " 42%|████▏     | 13/31 [00:08<00:11,  1.60it/s]\n",
      " 45%|████▌     | 14/31 [00:09<00:10,  1.59it/s]\n",
      " 48%|████▊     | 15/31 [00:09<00:10,  1.56it/s]\n",
      " 52%|█████▏    | 16/31 [00:10<00:09,  1.52it/s]\n",
      " 55%|█████▍    | 17/31 [00:11<00:09,  1.51it/s]\n",
      " 58%|█████▊    | 18/31 [00:11<00:08,  1.52it/s]\n",
      " 61%|██████▏   | 19/31 [00:12<00:08,  1.46it/s]\n",
      " 65%|██████▍   | 20/31 [00:13<00:07,  1.48it/s]\n",
      " 68%|██████▊   | 21/31 [00:13<00:06,  1.49it/s]\n",
      " 71%|███████   | 22/31 [00:14<00:06,  1.45it/s]\n",
      " 74%|███████▍  | 23/31 [00:15<00:05,  1.51it/s]\n",
      " 77%|███████▋  | 24/31 [00:15<00:04,  1.49it/s]\n",
      " 81%|████████  | 25/31 [00:16<00:04,  1.49it/s]\n",
      " 84%|████████▍ | 26/31 [00:17<00:03,  1.48it/s]\n",
      " 87%|████████▋ | 27/31 [00:18<00:02,  1.43it/s]\n",
      " 90%|█████████ | 28/31 [00:18<00:02,  1.39it/s]\n",
      " 94%|█████████▎| 29/31 [00:19<00:01,  1.36it/s]\n",
      " 97%|█████████▋| 30/31 [00:20<00:00,  1.34it/s]\n",
      "100%|██████████| 31/31 [00:21<00:00,  1.33it/s]\n",
      " 50%|█████     | 2/4 [00:43<00:44, 22.07s/it]"
     ]
    },
    {
     "name": "stdout",
     "output_type": "stream",
     "text": [
      "you-too AT\n"
     ]
    },
    {
     "name": "stderr",
     "output_type": "stream",
     "text": [
      "\n",
      "  0%|          | 0/34 [00:00<?, ?it/s]\n",
      "  3%|▎         | 1/34 [00:00<00:17,  1.88it/s]\n",
      "  6%|▌         | 2/34 [00:01<00:16,  1.90it/s]\n",
      "  9%|▉         | 3/34 [00:01<00:16,  1.91it/s]\n",
      " 12%|█▏        | 4/34 [00:02<00:16,  1.87it/s]\n",
      " 15%|█▍        | 5/34 [00:02<00:15,  1.83it/s]\n",
      " 18%|█▊        | 6/34 [00:03<00:15,  1.86it/s]\n",
      " 21%|██        | 7/34 [00:03<00:14,  1.87it/s]\n",
      " 24%|██▎       | 8/34 [00:04<00:13,  1.88it/s]\n",
      " 26%|██▋       | 9/34 [00:04<00:13,  1.92it/s]\n",
      " 29%|██▉       | 10/34 [00:05<00:12,  1.92it/s]\n",
      " 32%|███▏      | 11/34 [00:05<00:11,  1.92it/s]\n",
      " 35%|███▌      | 12/34 [00:06<00:12,  1.82it/s]\n",
      " 38%|███▊      | 13/34 [00:07<00:11,  1.78it/s]\n",
      " 41%|████      | 14/34 [00:07<00:11,  1.69it/s]\n",
      " 44%|████▍     | 15/34 [00:08<00:11,  1.61it/s]\n",
      " 47%|████▋     | 16/34 [00:08<00:11,  1.61it/s]\n",
      " 50%|█████     | 17/34 [00:09<00:10,  1.62it/s]\n",
      " 53%|█████▎    | 18/34 [00:10<00:09,  1.61it/s]\n",
      " 56%|█████▌    | 19/34 [00:10<00:09,  1.60it/s]\n",
      " 59%|█████▉    | 20/34 [00:11<00:08,  1.57it/s]\n",
      " 62%|██████▏   | 21/34 [00:12<00:08,  1.60it/s]\n",
      " 65%|██████▍   | 22/34 [00:12<00:07,  1.65it/s]\n",
      " 68%|██████▊   | 23/34 [00:13<00:07,  1.50it/s]\n",
      " 71%|███████   | 24/34 [00:14<00:06,  1.55it/s]\n",
      " 74%|███████▎  | 25/34 [00:14<00:05,  1.56it/s]\n",
      " 76%|███████▋  | 26/34 [00:15<00:05,  1.57it/s]\n",
      " 79%|███████▉  | 27/34 [00:15<00:04,  1.60it/s]\n",
      " 82%|████████▏ | 28/34 [00:16<00:03,  1.68it/s]\n",
      " 85%|████████▌ | 29/34 [00:17<00:02,  1.68it/s]\n",
      " 88%|████████▊ | 30/34 [00:17<00:02,  1.56it/s]\n",
      " 91%|█████████ | 31/34 [00:18<00:01,  1.58it/s]\n",
      " 94%|█████████▍| 32/34 [00:19<00:01,  1.58it/s]\n",
      " 97%|█████████▋| 33/34 [00:19<00:00,  1.61it/s]\n",
      "100%|██████████| 34/34 [00:20<00:00,  1.61it/s]\n",
      " 75%|███████▌  | 3/4 [01:03<00:21, 21.53s/it]"
     ]
    },
    {
     "name": "stdout",
     "output_type": "stream",
     "text": [
      "you-too ZRF\n"
     ]
    },
    {
     "name": "stderr",
     "output_type": "stream",
     "text": [
      "\n",
      "  0%|          | 0/34 [00:00<?, ?it/s]\n",
      "  3%|▎         | 1/34 [00:00<00:19,  1.71it/s]\n",
      "  6%|▌         | 2/34 [00:01<00:19,  1.67it/s]\n",
      "  9%|▉         | 3/34 [00:01<00:18,  1.67it/s]\n",
      " 12%|█▏        | 4/34 [00:02<00:17,  1.68it/s]\n",
      " 15%|█▍        | 5/34 [00:03<00:17,  1.62it/s]\n",
      " 18%|█▊        | 6/34 [00:03<00:17,  1.57it/s]\n",
      " 21%|██        | 7/34 [00:04<00:17,  1.53it/s]\n",
      " 24%|██▎       | 8/34 [00:05<00:17,  1.52it/s]\n",
      " 26%|██▋       | 9/34 [00:05<00:16,  1.54it/s]\n",
      " 29%|██▉       | 10/34 [00:06<00:15,  1.52it/s]\n",
      " 32%|███▏      | 11/34 [00:07<00:15,  1.50it/s]\n",
      " 35%|███▌      | 12/34 [00:07<00:14,  1.57it/s]\n",
      " 38%|███▊      | 13/34 [00:08<00:13,  1.59it/s]\n",
      " 41%|████      | 14/34 [00:08<00:11,  1.67it/s]\n",
      " 44%|████▍     | 15/34 [00:09<00:11,  1.65it/s]\n",
      " 47%|████▋     | 16/34 [00:09<00:10,  1.74it/s]\n",
      " 50%|█████     | 17/34 [00:10<00:09,  1.77it/s]\n",
      " 53%|█████▎    | 18/34 [00:10<00:08,  1.83it/s]\n",
      " 56%|█████▌    | 19/34 [00:11<00:08,  1.77it/s]\n",
      " 59%|█████▉    | 20/34 [00:12<00:07,  1.79it/s]\n",
      " 62%|██████▏   | 21/34 [00:12<00:07,  1.79it/s]\n",
      " 65%|██████▍   | 22/34 [00:13<00:06,  1.84it/s]\n",
      " 68%|██████▊   | 23/34 [00:14<00:07,  1.45it/s]\n",
      " 71%|███████   | 24/34 [00:14<00:07,  1.41it/s]\n",
      " 74%|███████▎  | 25/34 [00:15<00:06,  1.32it/s]\n",
      " 76%|███████▋  | 26/34 [00:16<00:05,  1.38it/s]\n",
      " 79%|███████▉  | 27/34 [00:16<00:04,  1.54it/s]\n",
      " 82%|████████▏ | 28/34 [00:17<00:03,  1.63it/s]\n",
      " 85%|████████▌ | 29/34 [00:18<00:03,  1.65it/s]\n",
      " 88%|████████▊ | 30/34 [00:18<00:02,  1.76it/s]\n",
      " 91%|█████████ | 31/34 [00:19<00:01,  1.81it/s]\n",
      " 94%|█████████▍| 32/34 [00:19<00:01,  1.74it/s]\n",
      " 97%|█████████▋| 33/34 [00:20<00:00,  1.77it/s]\n",
      "100%|██████████| 34/34 [00:20<00:00,  1.77it/s]\n",
      "100%|██████████| 4/4 [01:24<00:00, 21.32s/it]\n"
     ]
    },
    {
     "name": "stdout",
     "output_type": "stream",
     "text": [
      "Landmarks saved to csv\n",
      "Bins saved to json\n"
     ]
    }
   ],
   "source": [
    "lmdf = pd.DataFrame()\n",
    "\n",
    "\n",
    "# Loop through each pair of stype and channels\n",
    "for s,c in tqdm.tqdm(data_pairs):\n",
    "    print(s,c)\n",
    "    # Calculate landmarks for each sample with this data pair\n",
    "    for k,df in tqdm.tqdm(D[s][c].items()):\n",
    "        lmdf = lm.calc_perc(df, k, '-'.join([s,c]), lmdf)\n",
    "        \n",
    "# Set timestamp for saving data\n",
    "tstamp = time.strftime(\"%m-%d-%H-%M\",time.localtime())\n",
    "        \n",
    "# Save completed landmarks to a csv file\n",
    "lmdf.to_csv(tstamp+'_landmarks.csv')\n",
    "print('Landmarks saved to csv')\n",
    "\n",
    "# Save landmark bins to json file\n",
    "bins = {\n",
    "    'acbins':list(lm.acbins),\n",
    "    'tbins':list(lm.tbins)\n",
    "}\n",
    "with open(tstamp+'_landmarks_bins.json', 'w') as outfile:\n",
    "    json.dump(bins, outfile)\n",
    "print('Bins saved to json')"
   ]
  }
 ],
 "metadata": {
  "kernelspec": {
   "display_name": "Python [conda env:test]",
   "language": "python",
   "name": "conda-env-test-py"
  },
  "language_info": {
   "codemirror_mode": {
    "name": "ipython",
    "version": 3
   },
   "file_extension": ".py",
   "mimetype": "text/x-python",
   "name": "python",
   "nbconvert_exporter": "python",
   "pygments_lexer": "ipython3",
   "version": "3.7.1"
  }
 },
 "nbformat": 4,
 "nbformat_minor": 4
}
