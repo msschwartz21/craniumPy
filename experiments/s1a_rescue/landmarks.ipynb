{
 "cells": [
  {
   "cell_type": "code",
   "execution_count": 16,
   "metadata": {},
   "outputs": [],
   "source": [
    "import deltascope as ds\n",
    "import deltascope.alignment as ut\n",
    "import datetime\n",
    "import numpy as np\n",
    "import pandas as pd\n",
    "import matplotlib.pyplot as plt\n",
    "\n",
    "from sklearn.preprocessing import normalize, Normalizer\n",
    "from scipy.optimize import minimize\n",
    "from scipy.stats import normaltest\n",
    "\n",
    "import os\n",
    "import tqdm\n",
    "import json\n",
    "import time"
   ]
  },
  {
   "cell_type": "markdown",
   "metadata": {},
   "source": [
    "# Import raw data\n",
    "The user needs to specify the directories containing the data of interest. Each sample type should have a key which corresponds to the directory path. Additionally, each object should have a list that includes the channels of interest."
   ]
  },
  {
   "cell_type": "code",
   "execution_count": 17,
   "metadata": {},
   "outputs": [],
   "source": [
    "# --------------------------------\n",
    "# -------- User input ------------\n",
    "# --------------------------------\n",
    "\n",
    "data = {\n",
    "    # Specify sample type key\n",
    "    'wt': {\n",
    "        # Specify path to data directory\n",
    "        'path': './../yot_experiment/data/Output_wt03-31-17-48',\n",
    "        # Specify which channels are in the directory and are of interest\n",
    "        'channels': ['AT','ZRF']\n",
    "    },\n",
    "    'yot': {\n",
    "        'path': './../yot_experiment/data/Output_yot03-31-17-48',\n",
    "        'channels': ['AT','ZRF']\n",
    "    },\n",
    "    'hss1a': {\n",
    "        'path': './data/hss1a/Output-02-15-2019',\n",
    "        'channels': ['AT','ZRF']\n",
    "    },\n",
    "    'hss1ayot': {\n",
    "        'path': './data/hss1ayot/Output-02-15-2019',\n",
    "        'channels': ['AT','ZRF']\n",
    "    }\n",
    "}"
   ]
  },
  {
   "cell_type": "code",
   "execution_count": 18,
   "metadata": {},
   "outputs": [],
   "source": [
    "data_pairs = []\n",
    "for s in data.keys():\n",
    "    for c in data[s]['channels']:\n",
    "        data_pairs.append((s,c))"
   ]
  },
  {
   "cell_type": "markdown",
   "metadata": {},
   "source": [
    "We can now read in all datafiles specified by the `data` dictionary above."
   ]
  },
  {
   "cell_type": "code",
   "execution_count": 19,
   "metadata": {},
   "outputs": [
    {
     "name": "stderr",
     "output_type": "stream",
     "text": [
      "100%|██████████████████████████████████████████████████████████████████████████████████| 75/75 [00:13<00:00,  5.69it/s]\n",
      "100%|██████████████████████████████████████████████████████████████████████████████████| 75/75 [00:10<00:00,  2.96it/s]\n",
      "100%|██████████████████████████████████████████████████████████████████████████████████| 67/67 [00:04<00:00, 15.67it/s]\n",
      "100%|██████████████████████████████████████████████████████████████████████████████████| 67/67 [00:06<00:00,  6.95it/s]\n",
      "100%|██████████████████████████████████████████████████████████████████████████████████| 21/21 [00:00<00:00, 44.42it/s]\n",
      "100%|██████████████████████████████████████████████████████████████████████████████████| 21/21 [00:00<00:00, 27.50it/s]\n",
      "100%|██████████████████████████████████████████████████████████████████████████████████| 35/35 [00:00<00:00, 73.26it/s]\n",
      "100%|██████████████████████████████████████████████████████████████████████████████████| 35/35 [00:00<00:00, 37.86it/s]\n"
     ]
    }
   ],
   "source": [
    "D = {}\n",
    "for s in data.keys():\n",
    "    D[s] = {}\n",
    "    for c in data[s]['channels']:\n",
    "        D[s][c] = ds.read_psi_to_dict(data[s]['path'],c)"
   ]
  },
  {
   "cell_type": "markdown",
   "metadata": {},
   "source": [
    "Display the numer of samples for each sample type."
   ]
  },
  {
   "cell_type": "code",
   "execution_count": 20,
   "metadata": {},
   "outputs": [
    {
     "data": {
      "text/plain": [
       "(37, 33, 10, 17)"
      ]
     },
     "execution_count": 20,
     "metadata": {},
     "output_type": "execute_result"
    }
   ],
   "source": [
    "len(D['wt']['AT'].keys()),len(D['yot']['AT'].keys()),len(D['hss1a']['AT'].keys()),len(D['hss1ayot']['AT'].keys())"
   ]
  },
  {
   "cell_type": "markdown",
   "metadata": {},
   "source": [
    "# Landmarks"
   ]
  },
  {
   "cell_type": "markdown",
   "metadata": {},
   "source": [
    "Calculate landmark bins based on user input parameters and the previously specified control sample."
   ]
  },
  {
   "cell_type": "code",
   "execution_count": 21,
   "metadata": {},
   "outputs": [],
   "source": [
    "# --------------------------------\n",
    "# -------- User input ------------\n",
    "# --------------------------------\n",
    "\n",
    "# Specify stype to use as control\n",
    "s_ctrl = 'wt'\n",
    "# Specify channel to use as control\n",
    "c_ctrl = 'AT'\n",
    "\n",
    "# Specify size of theta bins\n",
    "theta_step = np.pi/4\n",
    "# Specify the step size when sweeping various alpha bin sizes\n",
    "astep = 3\n",
    "# Specify minimum a value \n",
    "amn = 2\n",
    "# Specify maximum a value\n",
    "amx = 50"
   ]
  },
  {
   "cell_type": "code",
   "execution_count": 22,
   "metadata": {},
   "outputs": [
    {
     "name": "stdout",
     "output_type": "stream",
     "text": [
      "2 calculation complete\n",
      "5 calculation complete\n",
      "8 calculation complete\n",
      "11 calculation complete\n",
      "14 calculation complete\n",
      "17 calculation complete\n",
      "20 calculation complete\n",
      "23 calculation complete\n",
      "26 calculation complete\n",
      "29 calculation complete\n",
      "32 calculation complete\n",
      "35 calculation complete\n",
      "38 calculation complete\n",
      "41 calculation complete\n",
      "44 calculation complete\n",
      "47 calculation complete\n",
      "Parameter sweep complete\n"
     ]
    }
   ],
   "source": [
    "optr = ds.anumSelect(D[s_ctrl][c_ctrl])\n",
    "optr.param_sweep(theta_step, amn=amn, amx=amx, astep=astep,\n",
    "                 rnull=np.nan, DT='r')"
   ]
  },
  {
   "cell_type": "code",
   "execution_count": 23,
   "metadata": {},
   "outputs": [],
   "source": [
    "# --------------------------------\n",
    "# -------- User input ------------\n",
    "# --------------------------------\n",
    "\n",
    "# Select degrees of freedom for curve fitting\n",
    "dof = 5"
   ]
  },
  {
   "cell_type": "code",
   "execution_count": 25,
   "metadata": {},
   "outputs": [
    {
     "data": {
      "image/png": "[encoded data removed]",
      "text/plain": [
       "<Figure size 432x288 with 1 Axes>"
      ]
     },
     "metadata": {
      "needs_background": "light"
     },
     "output_type": "display_data"
    }
   ],
   "source": [
    "x = np.arange(amn,amx,astep)\n",
    "fig,ax = plt.subplots()\n",
    "\n",
    "# Fit a curve to bin variance values\n",
    "optrMbvarray = np.array(optr.Mbv).reshape(1, len(optr.Mbv))\n",
    "pbv = np.polyfit(x, normalize(optrMbvarray)[0], dof)\n",
    "fbv = np.poly1d(pbv)\n",
    "ax.plot(x, fbv(x), c='b', label='Bin Variance')\n",
    "\n",
    "# Fit curve to sample variance values\n",
    "optrMsvarray = np.array(optr.Msv).reshape(1, len(optr.Msv))\n",
    "psv = np.polyfit(x, normalize(optrMsvarray)[0], dof)\n",
    "fsv = np.poly1d(psv)\n",
    "ax.plot(x, fsv(x), c='g', label='Sample Variance')\n",
    "\n",
    "# Plot sum of sample and bin variances\n",
    "ax.plot(x, fsv(x)+fbv(x), c='c', label='Total Variance')\n",
    "\n",
    "ax.legend()\n",
    "tstamp = datetime.datetime.now().strftime('%Y-%m-%d')\n",
    "location = \"C:\\\\Users\\\\zfishlab\\\\Code\\\\deltascope\\\\figures\\\\Raw_Figures_for_DeltaScope_revision\\\\\"\n",
    "fig.savefig(location+tstamp+'_slit1alandmarkoptimization-{}-{}.png'.format(c_ctrl,s_ctrl))"
   ]
  },
  {
   "cell_type": "code",
   "execution_count": 11,
   "metadata": {},
   "outputs": [],
   "source": [
    "\n",
    "# --------------------------------\n",
    "# -------- User input ------------\n",
    "# --------------------------------\n",
    "\n",
    "# Guess the approximate optimal value\n",
    "guess = 25"
   ]
  },
  {
   "cell_type": "code",
   "execution_count": 12,
   "metadata": {},
   "outputs": [
    {
     "name": "stdout",
     "output_type": "stream",
     "text": [
      "21.204086054876004\n"
     ]
    }
   ],
   "source": [
    "opt = minimize(fbv+fsv, guess)\n",
    "ax.axvline(opt.x, c='r', label='Optimum: '+str(np.round(opt.x[0], 2)))\n",
    "print(opt.x[0])"
   ]
  },
  {
   "cell_type": "code",
   "execution_count": 13,
   "metadata": {},
   "outputs": [],
   "source": [
    "# --------------------------------\n",
    "# -------- User input ------------\n",
    "# --------------------------------\n",
    "\n",
    "# Pick an integer value for bin number based on results above\n",
    "anum = 21\n",
    "\n",
    "# Specify the percentiles which will be used to calculate landmarks\n",
    "percbins = [50]\n",
    "\n",
    "theta_step = np.pi/4\n",
    "\n",
    "s_ctrl = 'wt'\n",
    "c_ctrl = 'AT'"
   ]
  },
  {
   "cell_type": "code",
   "execution_count": 14,
   "metadata": {},
   "outputs": [
    {
     "name": "stdout",
     "output_type": "stream",
     "text": [
      "Alpha bins\n",
      "[-83.53412655 -75.18071389 -66.82730124 -58.47388858 -50.12047593\n",
      " -41.76706327 -33.41365062 -25.06023796 -16.70682531  -8.35341265\n",
      "   0.           8.35341265  16.70682531  25.06023796  33.41365062\n",
      "  41.76706327  50.12047593  58.47388858  66.82730124  75.18071389\n",
      "  83.53412655]\n",
      "Theta bins\n",
      "[-3.14159265 -2.35619449 -1.57079633 -0.78539816  0.          0.78539816\n",
      "  1.57079633  2.35619449  3.14159265]\n"
     ]
    }
   ],
   "source": [
    "lm = ds.landmarks(percbins=percbins, rnull=np.nan)\n",
    "lm.calc_bins(D[s_ctrl][c_ctrl], anum, theta_step)\n",
    "\n",
    "print('Alpha bins')\n",
    "print(lm.acbins)\n",
    "print('Theta bins')\n",
    "print(lm.tbins)"
   ]
  },
  {
   "cell_type": "code",
   "execution_count": 15,
   "metadata": {},
   "outputs": [
    {
     "name": "stderr",
     "output_type": "stream",
     "text": [
      "\r",
      "  0%|                                                                                            | 0/8 [00:00<?, ?it/s]"
     ]
    },
    {
     "name": "stdout",
     "output_type": "stream",
     "text": [
      "wt AT\n"
     ]
    },
    {
     "name": "stderr",
     "output_type": "stream",
     "text": [
      "\n",
      "  0%|                                                                                           | 0/37 [00:00<?, ?it/s]\n",
      "  3%|██▏                                                                                | 1/37 [00:00<00:34,  1.04it/s]\n",
      "  5%|████▍                                                                              | 2/37 [00:01<00:32,  1.07it/s]\n",
      "  8%|██████▋                                                                            | 3/37 [00:02<00:33,  1.02it/s]\n",
      " 11%|████████▉                                                                          | 4/37 [00:03<00:30,  1.06it/s]\n",
      " 14%|███████████▏                                                                       | 5/37 [00:04<00:32,  1.02s/it]\n",
      " 16%|█████████████▍                                                                     | 6/37 [00:05<00:31,  1.02s/it]\n",
      " 19%|███████████████▋                                                                   | 7/37 [00:07<00:36,  1.23s/it]\n",
      " 22%|█████████████████▉                                                                 | 8/37 [00:09<00:37,  1.28s/it]\n",
      " 24%|████████████████████▏                                                              | 9/37 [00:10<00:34,  1.24s/it]\n",
      " 27%|██████████████████████▏                                                           | 10/37 [00:11<00:31,  1.15s/it]\n",
      " 30%|████████████████████████▍                                                         | 11/37 [00:12<00:31,  1.20s/it]\n",
      " 32%|██████████████████████████▌                                                       | 12/37 [00:14<00:32,  1.31s/it]\n",
      " 35%|████████████████████████████▊                                                     | 13/37 [00:15<00:29,  1.21s/it]\n",
      " 38%|███████████████████████████████                                                   | 14/37 [00:15<00:25,  1.12s/it]\n",
      " 41%|█████████████████████████████████▏                                                | 15/37 [00:17<00:24,  1.12s/it]\n",
      " 43%|███████████████████████████████████▍                                              | 16/37 [00:18<00:25,  1.20s/it]\n",
      " 46%|█████████████████████████████████████▋                                            | 17/37 [00:19<00:25,  1.28s/it]\n",
      " 49%|███████████████████████████████████████▉                                          | 18/37 [00:21<00:24,  1.28s/it]\n",
      " 51%|██████████████████████████████████████████                                        | 19/37 [00:22<00:21,  1.21s/it]\n",
      " 54%|████████████████████████████████████████████▎                                     | 20/37 [00:23<00:22,  1.30s/it]\n",
      " 57%|██████████████████████████████████████████████▌                                   | 21/37 [00:24<00:19,  1.21s/it]\n",
      " 59%|████████████████████████████████████████████████▊                                 | 22/37 [00:26<00:18,  1.22s/it]\n",
      " 62%|██████████████████████████████████████████████████▉                               | 23/37 [00:27<00:19,  1.39s/it]\n",
      " 65%|█████████████████████████████████████████████████████▏                            | 24/37 [00:29<00:17,  1.35s/it]\n",
      " 68%|███████████████████████████████████████████████████████▍                          | 25/37 [00:30<00:15,  1.28s/it]\n",
      " 70%|█████████████████████████████████████████████████████████▌                        | 26/37 [00:31<00:13,  1.26s/it]\n",
      " 73%|███████████████████████████████████████████████████████████▊                      | 27/37 [00:32<00:12,  1.26s/it]\n",
      " 76%|██████████████████████████████████████████████████████████████                    | 28/37 [00:34<00:11,  1.32s/it]\n",
      " 78%|████████████████████████████████████████████████████████████████▎                 | 29/37 [00:36<00:12,  1.61s/it]\n",
      " 81%|██████████████████████████████████████████████████████████████████▍               | 30/37 [00:37<00:10,  1.53s/it]\n",
      " 84%|████████████████████████████████████████████████████████████████████▋             | 31/37 [00:38<00:08,  1.36s/it]\n",
      " 86%|██████████████████████████████████████████████████████████████████████▉           | 32/37 [00:40<00:06,  1.35s/it]\n",
      " 89%|█████████████████████████████████████████████████████████████████████████▏        | 33/37 [00:41<00:05,  1.39s/it]\n",
      " 92%|███████████████████████████████████████████████████████████████████████████▎      | 34/37 [00:42<00:03,  1.30s/it]\n",
      " 95%|█████████████████████████████████████████████████████████████████████████████▌    | 35/37 [00:43<00:02,  1.24s/it]\n",
      " 97%|███████████████████████████████████████████████████████████████████████████████▊  | 36/37 [00:44<00:01,  1.20s/it]\n",
      " 12%|██████████▌                                                                         | 1/8 [00:45<05:19, 45.66s/it]"
     ]
    },
    {
     "name": "stdout",
     "output_type": "stream",
     "text": [
      "wt ZRF\n"
     ]
    },
    {
     "name": "stderr",
     "output_type": "stream",
     "text": [
      "\n",
      "  0%|                                                                                           | 0/37 [00:00<?, ?it/s]\n",
      "  3%|██▏                                                                                | 1/37 [00:01<00:55,  1.53s/it]\n",
      "  5%|████▍                                                                              | 2/37 [00:02<00:49,  1.42s/it]\n",
      "  8%|██████▋                                                                            | 3/37 [00:03<00:42,  1.24s/it]\n",
      " 11%|████████▉                                                                          | 4/37 [00:04<00:36,  1.12s/it]\n",
      " 14%|███████████▏                                                                       | 5/37 [00:05<00:34,  1.08s/it]\n",
      " 16%|█████████████▍                                                                     | 6/37 [00:06<00:32,  1.05s/it]\n",
      " 19%|███████████████▋                                                                   | 7/37 [00:07<00:32,  1.08s/it]\n",
      " 22%|█████████████████▉                                                                 | 8/37 [00:08<00:29,  1.03s/it]\n",
      " 24%|████████████████████▏                                                              | 9/37 [00:09<00:28,  1.01s/it]\n",
      " 27%|██████████████████████▏                                                           | 10/37 [00:10<00:28,  1.06s/it]\n",
      " 30%|████████████████████████▍                                                         | 11/37 [00:11<00:27,  1.04s/it]\n",
      " 32%|██████████████████████████▌                                                       | 12/37 [00:12<00:24,  1.02it/s]\n",
      " 35%|████████████████████████████▊                                                     | 13/37 [00:13<00:23,  1.01it/s]\n",
      " 38%|███████████████████████████████                                                   | 14/37 [00:14<00:21,  1.05it/s]\n",
      " 41%|█████████████████████████████████▏                                                | 15/37 [00:14<00:19,  1.13it/s]\n",
      " 43%|███████████████████████████████████▍                                              | 16/37 [00:15<00:18,  1.14it/s]\n",
      " 46%|█████████████████████████████████████▋                                            | 17/37 [00:16<00:16,  1.25it/s]\n",
      " 49%|███████████████████████████████████████▉                                          | 18/37 [00:17<00:15,  1.19it/s]\n",
      " 51%|██████████████████████████████████████████                                        | 19/37 [00:18<00:16,  1.10it/s]\n",
      " 54%|████████████████████████████████████████████▎                                     | 20/37 [00:19<00:15,  1.10it/s]\n",
      " 57%|██████████████████████████████████████████████▌                                   | 21/37 [00:20<00:15,  1.06it/s]\n",
      " 59%|████████████████████████████████████████████████▊                                 | 22/37 [00:21<00:14,  1.05it/s]\n",
      " 62%|██████████████████████████████████████████████████▉                               | 23/37 [00:22<00:13,  1.02it/s]\n",
      " 65%|█████████████████████████████████████████████████████▏                            | 24/37 [00:23<00:13,  1.06s/it]\n",
      " 68%|███████████████████████████████████████████████████████▍                          | 25/37 [00:24<00:12,  1.07s/it]\n",
      " 70%|█████████████████████████████████████████████████████████▌                        | 26/37 [00:26<00:12,  1.15s/it]\n",
      " 73%|███████████████████████████████████████████████████████████▊                      | 27/37 [00:27<00:11,  1.14s/it]\n",
      " 76%|██████████████████████████████████████████████████████████████                    | 28/37 [00:27<00:09,  1.01s/it]\n",
      " 78%|████████████████████████████████████████████████████████████████▎                 | 29/37 [00:29<00:08,  1.08s/it]\n",
      " 81%|██████████████████████████████████████████████████████████████████▍               | 30/37 [00:29<00:07,  1.01s/it]\n",
      " 84%|████████████████████████████████████████████████████████████████████▋             | 31/37 [00:31<00:07,  1.21s/it]\n",
      " 86%|██████████████████████████████████████████████████████████████████████▉           | 32/37 [00:32<00:05,  1.11s/it]\n",
      " 89%|█████████████████████████████████████████████████████████████████████████▏        | 33/37 [00:33<00:04,  1.14s/it]\n",
      " 92%|███████████████████████████████████████████████████████████████████████████▎      | 34/37 [00:35<00:03,  1.21s/it]\n",
      " 95%|█████████████████████████████████████████████████████████████████████████████▌    | 35/37 [00:36<00:02,  1.28s/it]\n",
      " 97%|███████████████████████████████████████████████████████████████████████████████▊  | 36/37 [00:38<00:01,  1.34s/it]\n",
      " 25%|█████████████████████                                                               | 2/8 [01:24<04:22, 43.76s/it]"
     ]
    },
    {
     "name": "stdout",
     "output_type": "stream",
     "text": [
      "yot AT\n"
     ]
    },
    {
     "name": "stderr",
     "output_type": "stream",
     "text": [
      "\n",
      "  0%|                                                                                           | 0/33 [00:00<?, ?it/s]\n",
      "  3%|██▌                                                                                | 1/33 [00:00<00:18,  1.70it/s]\n",
      "  6%|█████                                                                              | 2/33 [00:01<00:18,  1.69it/s]\n",
      "  9%|███████▌                                                                           | 3/33 [00:01<00:17,  1.70it/s]\n",
      " 12%|██████████                                                                         | 4/33 [00:02<00:17,  1.70it/s]\n",
      " 15%|████████████▌                                                                      | 5/33 [00:03<00:17,  1.64it/s]\n",
      " 18%|███████████████                                                                    | 6/33 [00:03<00:16,  1.65it/s]\n",
      " 21%|█████████████████▌                                                                 | 7/33 [00:04<00:15,  1.66it/s]\n",
      " 24%|████████████████████                                                               | 8/33 [00:04<00:14,  1.68it/s]\n",
      " 27%|██████████████████████▋                                                            | 9/33 [00:05<00:14,  1.71it/s]\n",
      " 30%|████████████████████████▊                                                         | 10/33 [00:05<00:13,  1.70it/s]\n",
      " 33%|███████████████████████████▎                                                      | 11/33 [00:06<00:13,  1.62it/s]\n",
      " 36%|█████████████████████████████▊                                                    | 12/33 [00:07<00:13,  1.60it/s]\n",
      " 39%|████████████████████████████████▎                                                 | 13/33 [00:08<00:13,  1.49it/s]\n",
      " 42%|██████████████████████████████████▊                                               | 14/33 [00:08<00:13,  1.36it/s]\n",
      " 45%|█████████████████████████████████████▎                                            | 15/33 [00:09<00:12,  1.41it/s]\n",
      " 48%|███████████████████████████████████████▊                                          | 16/33 [00:10<00:11,  1.46it/s]\n",
      " 52%|██████████████████████████████████████████▏                                       | 17/33 [00:10<00:10,  1.45it/s]\n",
      " 55%|████████████████████████████████████████████▋                                     | 18/33 [00:11<00:10,  1.42it/s]\n",
      " 58%|███████████████████████████████████████████████▏                                  | 19/33 [00:12<00:10,  1.40it/s]\n",
      " 61%|█████████████████████████████████████████████████▋                                | 20/33 [00:13<00:09,  1.41it/s]\n",
      " 64%|████████████████████████████████████████████████████▏                             | 21/33 [00:13<00:08,  1.40it/s]\n",
      " 67%|██████████████████████████████████████████████████████▋                           | 22/33 [00:14<00:09,  1.18it/s]\n",
      " 70%|█████████████████████████████████████████████████████████▏                        | 23/33 [00:15<00:08,  1.24it/s]\n",
      " 73%|███████████████████████████████████████████████████████████▋                      | 24/33 [00:16<00:07,  1.19it/s]\n",
      " 76%|██████████████████████████████████████████████████████████████                    | 25/33 [00:17<00:06,  1.21it/s]\n",
      " 79%|████████████████████████████████████████████████████████████████▌                 | 26/33 [00:18<00:05,  1.26it/s]\n",
      " 82%|███████████████████████████████████████████████████████████████████               | 27/33 [00:18<00:04,  1.36it/s]\n",
      " 85%|█████████████████████████████████████████████████████████████████████▌            | 28/33 [00:19<00:03,  1.32it/s]\n",
      " 88%|████████████████████████████████████████████████████████████████████████          | 29/33 [00:20<00:03,  1.18it/s]\n",
      " 91%|██████████████████████████████████████████████████████████████████████████▌       | 30/33 [00:21<00:02,  1.22it/s]\n",
      " 94%|█████████████████████████████████████████████████████████████████████████████     | 31/33 [00:22<00:01,  1.26it/s]\n",
      " 97%|███████████████████████████████████████████████████████████████████████████████▌  | 32/33 [00:22<00:00,  1.25it/s]\n",
      " 38%|███████████████████████████████▌                                                    | 3/8 [01:48<03:08, 37.76s/it]"
     ]
    },
    {
     "name": "stdout",
     "output_type": "stream",
     "text": [
      "yot ZRF\n"
     ]
    },
    {
     "name": "stderr",
     "output_type": "stream",
     "text": [
      "\n",
      "  0%|                                                                                           | 0/33 [00:00<?, ?it/s]\n",
      "  3%|██▌                                                                                | 1/33 [00:00<00:23,  1.35it/s]\n",
      "  6%|█████                                                                              | 2/33 [00:01<00:22,  1.40it/s]\n",
      "  9%|███████▌                                                                           | 3/33 [00:02<00:22,  1.34it/s]\n",
      " 12%|██████████                                                                         | 4/33 [00:03<00:22,  1.31it/s]\n",
      " 15%|████████████▌                                                                      | 5/33 [00:04<00:23,  1.18it/s]\n",
      " 18%|███████████████                                                                    | 6/33 [00:05<00:24,  1.10it/s]\n",
      " 21%|█████████████████▌                                                                 | 7/33 [00:06<00:24,  1.07it/s]\n",
      " 24%|████████████████████                                                               | 8/33 [00:07<00:23,  1.08it/s]\n",
      " 27%|██████████████████████▋                                                            | 9/33 [00:07<00:20,  1.18it/s]\n",
      " 30%|████████████████████████▊                                                         | 10/33 [00:08<00:21,  1.07it/s]\n",
      " 33%|███████████████████████████▎                                                      | 11/33 [00:09<00:19,  1.15it/s]\n",
      " 36%|█████████████████████████████▊                                                    | 12/33 [00:10<00:16,  1.27it/s]\n",
      " 39%|████████████████████████████████▎                                                 | 13/33 [00:10<00:14,  1.37it/s]\n",
      " 42%|██████████████████████████████████▊                                               | 14/33 [00:11<00:14,  1.29it/s]\n",
      " 45%|█████████████████████████████████████▎                                            | 15/33 [00:12<00:12,  1.42it/s]\n",
      " 48%|███████████████████████████████████████▊                                          | 16/33 [00:12<00:11,  1.46it/s]\n",
      " 52%|██████████████████████████████████████████▏                                       | 17/33 [00:13<00:10,  1.53it/s]\n",
      " 55%|████████████████████████████████████████████▋                                     | 18/33 [00:14<00:09,  1.51it/s]\n",
      " 58%|███████████████████████████████████████████████▏                                  | 19/33 [00:14<00:09,  1.51it/s]\n",
      " 61%|█████████████████████████████████████████████████▋                                | 20/33 [00:15<00:08,  1.51it/s]\n",
      " 64%|████████████████████████████████████████████████████▏                             | 21/33 [00:15<00:07,  1.59it/s]\n",
      " 67%|██████████████████████████████████████████████████████▋                           | 22/33 [00:18<00:12,  1.11s/it]\n",
      " 70%|█████████████████████████████████████████████████████████▏                        | 23/33 [00:19<00:11,  1.19s/it]\n",
      " 73%|███████████████████████████████████████████████████████████▋                      | 24/33 [00:21<00:12,  1.37s/it]\n",
      " 76%|██████████████████████████████████████████████████████████████                    | 25/33 [00:22<00:09,  1.25s/it]\n",
      " 79%|████████████████████████████████████████████████████████████████▌                 | 26/33 [00:22<00:07,  1.02s/it]\n",
      " 82%|███████████████████████████████████████████████████████████████████               | 27/33 [00:23<00:05,  1.09it/s]\n",
      " 85%|█████████████████████████████████████████████████████████████████████▌            | 28/33 [00:24<00:04,  1.13it/s]\n",
      " 88%|████████████████████████████████████████████████████████████████████████          | 29/33 [00:24<00:03,  1.29it/s]\n",
      " 91%|██████████████████████████████████████████████████████████████████████████▌       | 30/33 [00:25<00:02,  1.39it/s]\n",
      " 94%|█████████████████████████████████████████████████████████████████████████████     | 31/33 [00:26<00:01,  1.27it/s]\n",
      " 97%|███████████████████████████████████████████████████████████████████████████████▌  | 32/33 [00:26<00:00,  1.32it/s]\n",
      " 50%|██████████████████████████████████████████                                          | 4/8 [02:16<02:18, 34.73s/it]"
     ]
    },
    {
     "name": "stdout",
     "output_type": "stream",
     "text": [
      "hss1a AT\n"
     ]
    },
    {
     "name": "stderr",
     "output_type": "stream",
     "text": [
      "\n",
      "  0%|                                                                                           | 0/10 [00:00<?, ?it/s]\n",
      " 10%|████████▎                                                                          | 1/10 [00:00<00:05,  1.52it/s]\n",
      " 20%|████████████████▌                                                                  | 2/10 [00:01<00:05,  1.54it/s]\n",
      " 30%|████████████████████████▉                                                          | 3/10 [00:01<00:04,  1.59it/s]\n",
      " 40%|█████████████████████████████████▏                                                 | 4/10 [00:02<00:03,  1.60it/s]\n",
      " 50%|█████████████████████████████████████████▌                                         | 5/10 [00:03<00:03,  1.64it/s]\n",
      " 60%|█████████████████████████████████████████████████▊                                 | 6/10 [00:03<00:02,  1.66it/s]\n",
      " 70%|██████████████████████████████████████████████████████████                         | 7/10 [00:04<00:01,  1.67it/s]\n",
      " 80%|██████████████████████████████████████████████████████████████████▍                | 8/10 [00:04<00:01,  1.70it/s]\n",
      " 90%|██████████████████████████████████████████████████████████████████████████▋        | 9/10 [00:05<00:00,  1.73it/s]\n",
      " 62%|████████████████████████████████████████████████████▌                               | 5/8 [02:22<01:18, 26.13s/it]"
     ]
    },
    {
     "name": "stdout",
     "output_type": "stream",
     "text": [
      "hss1a ZRF\n"
     ]
    },
    {
     "name": "stderr",
     "output_type": "stream",
     "text": [
      "\n",
      "  0%|                                                                                           | 0/10 [00:00<?, ?it/s]\n",
      " 10%|████████▎                                                                          | 1/10 [00:00<00:05,  1.71it/s]\n",
      " 20%|████████████████▌                                                                  | 2/10 [00:01<00:04,  1.66it/s]\n",
      " 30%|████████████████████████▉                                                          | 3/10 [00:01<00:04,  1.60it/s]\n",
      " 40%|█████████████████████████████████▏                                                 | 4/10 [00:02<00:03,  1.63it/s]\n",
      " 50%|█████████████████████████████████████████▌                                         | 5/10 [00:03<00:03,  1.65it/s]\n",
      " 60%|█████████████████████████████████████████████████▊                                 | 6/10 [00:03<00:02,  1.62it/s]\n",
      " 70%|██████████████████████████████████████████████████████████                         | 7/10 [00:04<00:01,  1.67it/s]\n",
      " 80%|██████████████████████████████████████████████████████████████████▍                | 8/10 [00:05<00:01,  1.54it/s]\n",
      " 90%|██████████████████████████████████████████████████████████████████████████▋        | 9/10 [00:05<00:00,  1.59it/s]\n",
      " 75%|███████████████████████████████████████████████████████████████                     | 6/8 [02:28<00:40, 20.20s/it]"
     ]
    },
    {
     "name": "stdout",
     "output_type": "stream",
     "text": [
      "hss1ayot AT\n"
     ]
    },
    {
     "name": "stderr",
     "output_type": "stream",
     "text": [
      "\n",
      "  0%|                                                                                           | 0/17 [00:00<?, ?it/s]\n",
      "  6%|████▉                                                                              | 1/17 [00:00<00:08,  1.81it/s]\n",
      " 12%|█████████▊                                                                         | 2/17 [00:01<00:08,  1.79it/s]\n",
      " 18%|██████████████▋                                                                    | 3/17 [00:01<00:07,  1.80it/s]\n",
      " 24%|███████████████████▌                                                               | 4/17 [00:02<00:07,  1.81it/s]\n",
      " 29%|████████████████████████▍                                                          | 5/17 [00:02<00:06,  1.81it/s]\n",
      " 35%|█████████████████████████████▎                                                     | 6/17 [00:03<00:06,  1.81it/s]\n",
      " 41%|██████████████████████████████████▏                                                | 7/17 [00:03<00:05,  1.81it/s]\n",
      " 47%|███████████████████████████████████████                                            | 8/17 [00:04<00:04,  1.81it/s]\n",
      " 53%|███████████████████████████████████████████▉                                       | 9/17 [00:04<00:04,  1.85it/s]\n",
      " 59%|████████████████████████████████████████████████▏                                 | 10/17 [00:05<00:03,  1.83it/s]\n",
      " 65%|█████████████████████████████████████████████████████                             | 11/17 [00:06<00:03,  1.86it/s]\n",
      " 71%|█████████████████████████████████████████████████████████▉                        | 12/17 [00:06<00:02,  1.86it/s]\n",
      " 76%|██████████████████████████████████████████████████████████████▋                   | 13/17 [00:07<00:02,  1.90it/s]\n",
      " 82%|███████████████████████████████████████████████████████████████████▌              | 14/17 [00:07<00:01,  1.88it/s]\n",
      " 88%|████████████████████████████████████████████████████████████████████████▎         | 15/17 [00:08<00:01,  1.87it/s]\n",
      " 94%|█████████████████████████████████████████████████████████████████████████████▏    | 16/17 [00:08<00:00,  1.89it/s]\n",
      " 88%|█████████████████████████████████████████████████████████████████████████▌          | 7/8 [02:38<00:16, 16.90s/it]"
     ]
    },
    {
     "name": "stdout",
     "output_type": "stream",
     "text": [
      "hss1ayot ZRF\n"
     ]
    },
    {
     "name": "stderr",
     "output_type": "stream",
     "text": [
      "\n",
      "  0%|                                                                                           | 0/17 [00:00<?, ?it/s]\n",
      "  6%|████▉                                                                              | 1/17 [00:00<00:10,  1.54it/s]\n",
      " 12%|█████████▊                                                                         | 2/17 [00:01<00:09,  1.51it/s]\n",
      " 18%|██████████████▋                                                                    | 3/17 [00:01<00:08,  1.60it/s]\n",
      " 24%|███████████████████▌                                                               | 4/17 [00:02<00:08,  1.53it/s]\n",
      " 29%|████████████████████████▍                                                          | 5/17 [00:03<00:07,  1.62it/s]\n",
      " 35%|█████████████████████████████▎                                                     | 6/17 [00:03<00:06,  1.68it/s]\n",
      " 41%|██████████████████████████████████▏                                                | 7/17 [00:04<00:05,  1.72it/s]\n",
      " 47%|███████████████████████████████████████                                            | 8/17 [00:04<00:05,  1.76it/s]\n",
      " 53%|███████████████████████████████████████████▉                                       | 9/17 [00:05<00:04,  1.82it/s]\n",
      " 59%|████████████████████████████████████████████████▏                                 | 10/17 [00:05<00:03,  1.77it/s]\n",
      " 65%|█████████████████████████████████████████████████████                             | 11/17 [00:06<00:03,  1.83it/s]\n",
      " 71%|█████████████████████████████████████████████████████████▉                        | 12/17 [00:07<00:02,  1.70it/s]\n",
      " 76%|██████████████████████████████████████████████████████████████▋                   | 13/17 [00:07<00:02,  1.74it/s]\n",
      " 82%|███████████████████████████████████████████████████████████████████▌              | 14/17 [00:08<00:01,  1.74it/s]\n",
      " 88%|████████████████████████████████████████████████████████████████████████▎         | 15/17 [00:08<00:01,  1.71it/s]\n",
      " 94%|█████████████████████████████████████████████████████████████████████████████▏    | 16/17 [00:09<00:00,  1.69it/s]\n",
      "100%|████████████████████████████████████████████████████████████████████████████████████| 8/8 [02:48<00:00, 14.83s/it]\n"
     ]
    }
   ],
   "source": [
    "lmdf = pd.DataFrame()\n",
    "\n",
    "# Loop through each pair of stype and channels\n",
    "for s,c in tqdm.tqdm(data_pairs):\n",
    "    print(s,c)\n",
    "    # Calculate landmarks for each sample with this data pair\n",
    "    for k,df in tqdm.tqdm(D[s][c].items()):\n",
    "        lmdf = lm.calc_perc(df, k, '-'.join([s,c]), lmdf)\n",
    "        \n",
    "# Set timestamp for saving data\n",
    "tstamp = time.strftime(\"%m-%d-%H-%M\",time.localtime())\n",
    "        \n",
    "# Save completed landmarks to a csv file\n",
    "lmdf.to_csv(tstamp+'_landmarks.csv')\n",
    "\n",
    "# Save landmark bins to json file\n",
    "bins = {\n",
    "    'acbins':list(lm.acbins),\n",
    "    'tbins':list(lm.tbins)\n",
    "}\n",
    "with open(tstamp+'_landmarks_bins.json', 'w') as outfile:\n",
    "    json.dump(bins, outfile)"
   ]
  }
 ],
 "metadata": {
  "anaconda-cloud": {},
  "kernelspec": {
   "display_name": "Python [conda env:deltascope]",
   "language": "python",
   "name": "conda-env-deltascope-py"
  },
  "language_info": {
   "codemirror_mode": {
    "name": "ipython",
    "version": 3
   },
   "file_extension": ".py",
   "mimetype": "text/x-python",
   "name": "python",
   "nbconvert_exporter": "python",
   "pygments_lexer": "ipython3",
   "version": "3.7.2"
  }
 },
 "nbformat": 4,
 "nbformat_minor": 2
}
